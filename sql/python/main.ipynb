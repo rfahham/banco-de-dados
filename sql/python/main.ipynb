{
 "cells": [
  {
   "cell_type": "code",
   "execution_count": 3,
   "metadata": {},
   "outputs": [
    {
     "name": "stdout",
     "output_type": "stream",
     "text": [
      "Requirement already satisfied: pyodbc in /home/rfahham/projetos/banco-de-dados/venv/lib/python3.10/site-packages (5.1.0)\n"
     ]
    },
    {
     "ename": "Error",
     "evalue": "('01000', \"[01000] [unixODBC][Driver Manager]Can't open lib 'SQL Server' : file not found (0) (SQLDriverConnect)\")",
     "output_type": "error",
     "traceback": [
      "\u001b[0;31m---------------------------------------------------------------------------\u001b[0m",
      "\u001b[0;31mError\u001b[0m                                     Traceback (most recent call last)",
      "Cell \u001b[0;32mIn[3], line 11\u001b[0m\n\u001b[1;32m      3\u001b[0m \u001b[38;5;28;01mimport\u001b[39;00m \u001b[38;5;21;01mpyodbc\u001b[39;00m\n\u001b[1;32m      5\u001b[0m dados_conexao \u001b[38;5;241m=\u001b[39m (\n\u001b[1;32m      6\u001b[0m     \u001b[38;5;124m\"\u001b[39m\u001b[38;5;124mDriver=\u001b[39m\u001b[38;5;124m{\u001b[39m\u001b[38;5;124mSQL Server};\u001b[39m\u001b[38;5;124m\"\u001b[39m\n\u001b[1;32m      7\u001b[0m     \u001b[38;5;124m\"\u001b[39m\u001b[38;5;124mServer=DESKTOP-059018K;\u001b[39m\u001b[38;5;124m\"\u001b[39m\n\u001b[1;32m      8\u001b[0m     \u001b[38;5;124m\"\u001b[39m\u001b[38;5;124mDatabase=wrfsolutions;\u001b[39m\u001b[38;5;124m\"\u001b[39m\n\u001b[1;32m      9\u001b[0m )\n\u001b[0;32m---> 11\u001b[0m conexao \u001b[38;5;241m=\u001b[39m \u001b[43mpyodbc\u001b[49m\u001b[38;5;241;43m.\u001b[39;49m\u001b[43mconnect\u001b[49m\u001b[43m(\u001b[49m\u001b[43mdados_conexao\u001b[49m\u001b[43m)\u001b[49m\n\u001b[1;32m     13\u001b[0m \u001b[38;5;28mprint\u001b[39m(\u001b[38;5;124m\"\u001b[39m\u001b[38;5;124mConexão bem sucedida !!!\u001b[39m\u001b[38;5;124m\"\u001b[39m)\n\u001b[1;32m     15\u001b[0m cursor \u001b[38;5;241m=\u001b[39m conexao\u001b[38;5;241m.\u001b[39mcursor()\n",
      "\u001b[0;31mError\u001b[0m: ('01000', \"[01000] [unixODBC][Driver Manager]Can't open lib 'SQL Server' : file not found (0) (SQLDriverConnect)\")"
     ]
    }
   ],
   "source": [
    "! pip install pyodbc\n",
    "\n",
    "! pip install SQLAlchemy\n",
    "\n",
    "! pip install alembic\n",
    "\n",
    "\n",
    "\n",
    "import pyodbc\n",
    "\n",
    "dados_conexao = (\n",
    "    \"Driver={SQL Server};\"\n",
    "    \"Server=DESKTOP-059018K;\"\n",
    "    \"Database=wrfsolutions;\"\n",
    ")\n",
    "\n",
    "conexao = pyodbc.connect(dados_conexao)\n",
    "\n",
    "print(\"Conexão bem sucedida !!!\")\n",
    "\n",
    "cursor = conexao.cursor()\n",
    "\n",
    "id = 3\n",
    "nome = \"João Ricardo\"\n",
    "sobrenome = \"Fahham\"\n",
    "data = \"2000-04-24\"\n",
    "estado_civil = \"Solteiro\"\n",
    "sexo = \"M\"\n",
    "email = \"@gmail.com\"\n",
    "telefone = \"21-9\"\n",
    "renda = 72000\n",
    "filhos = 0\n",
    "escolaridade = \"superior completo\"\n",
    "\n",
    "insert = f\"\"\"INSERT INTO Clientes(ID_Cliente, Nome, Sobrenome, Data_Nascimento, Estado_Civil, Sexo, Email, Telefone, Renda_Anual, Qtd_Filhos, Escolaridade)\n",
    "VALUES\n",
    "    ({id}, '{nome}', '{sobrenome}', '{data}', '{estado_civil}', '{sexo}', '{email}', '{telefone}', {renda}, {filhos}, '{escolaridade}');\"\"\"\n",
    "\n",
    "cursor.execute(insert)\n",
    "\n",
    "cursor.commit()"
   ]
  }
 ],
 "metadata": {
  "kernelspec": {
   "display_name": "venv",
   "language": "python",
   "name": "python3"
  },
  "language_info": {
   "codemirror_mode": {
    "name": "ipython",
    "version": 3
   },
   "file_extension": ".py",
   "mimetype": "text/x-python",
   "name": "python",
   "nbconvert_exporter": "python",
   "pygments_lexer": "ipython3",
   "version": "3.10.12"
  }
 },
 "nbformat": 4,
 "nbformat_minor": 2
}
